{
 "cells": [
  {
   "cell_type": "markdown",
   "metadata": {},
   "source": [
    "# Understanding Filtering\n",
    "\n",
    "    Filtering allows us to focus our data so we can either work with a smaller group of data or remove it\n",
    "    if it does not meet our needs. You will find as you continuing your path with working with data each\n",
    "    tool you pick up has its own ways of doing it.\n",
    "    \n",
    "    We are going to focus on one tool called loc. Loc allows you to find rows of a data set that meet a condition\n",
    "    that you specify. To create a condition you can use operators to compare the values you are interest in."
   ]
  },
  {
   "cell_type": "markdown",
   "metadata": {},
   "source": [
    "# What Operators Can I Use?\n",
    "\n",
    "    This is a list of operators we will use to go through some filtering examples.\n",
    "    \n",
    "    == means Equal to\n",
    "    != means Not Equal to\n",
    "    > means Greater Than\n",
    "    >= means Greater Than or Equal to\n",
    "    < means Less Than\n",
    "    <= means Less Than or Equal to"
   ]
  },
  {
   "cell_type": "markdown",
   "metadata": {},
   "source": [
    "# Using Loc to Filter Data"
   ]
  },
  {
   "cell_type": "code",
   "execution_count": 1,
   "metadata": {},
   "outputs": [
    {
     "data": {
      "text/html": [
       "<div>\n",
       "<style scoped>\n",
       "    .dataframe tbody tr th:only-of-type {\n",
       "        vertical-align: middle;\n",
       "    }\n",
       "\n",
       "    .dataframe tbody tr th {\n",
       "        vertical-align: top;\n",
       "    }\n",
       "\n",
       "    .dataframe thead th {\n",
       "        text-align: right;\n",
       "    }\n",
       "</style>\n",
       "<table border=\"1\" class=\"dataframe\">\n",
       "  <thead>\n",
       "    <tr style=\"text-align: right;\">\n",
       "      <th></th>\n",
       "      <th>id</th>\n",
       "      <th>name</th>\n",
       "      <th>age</th>\n",
       "      <th>Product_ID</th>\n",
       "      <th>Purchased_Product</th>\n",
       "      <th>City</th>\n",
       "    </tr>\n",
       "  </thead>\n",
       "  <tbody>\n",
       "    <tr>\n",
       "      <th>0</th>\n",
       "      <td>1</td>\n",
       "      <td>Jess</td>\n",
       "      <td>20</td>\n",
       "      <td>101</td>\n",
       "      <td>Watch</td>\n",
       "      <td>Santa Cruz</td>\n",
       "    </tr>\n",
       "    <tr>\n",
       "      <th>1</th>\n",
       "      <td>2</td>\n",
       "      <td>Tanya</td>\n",
       "      <td>25</td>\n",
       "      <td>0</td>\n",
       "      <td>NA</td>\n",
       "      <td>Sacramento</td>\n",
       "    </tr>\n",
       "    <tr>\n",
       "      <th>2</th>\n",
       "      <td>3</td>\n",
       "      <td>Pete</td>\n",
       "      <td>15</td>\n",
       "      <td>106</td>\n",
       "      <td>Oil</td>\n",
       "      <td>San Deigo</td>\n",
       "    </tr>\n",
       "    <tr>\n",
       "      <th>3</th>\n",
       "      <td>4</td>\n",
       "      <td>Mel</td>\n",
       "      <td>10</td>\n",
       "      <td>0</td>\n",
       "      <td>NA</td>\n",
       "      <td>San Fransico</td>\n",
       "    </tr>\n",
       "    <tr>\n",
       "      <th>4</th>\n",
       "      <td>5</td>\n",
       "      <td>Heather</td>\n",
       "      <td>30</td>\n",
       "      <td>103</td>\n",
       "      <td>Shoes</td>\n",
       "      <td>San Fransico</td>\n",
       "    </tr>\n",
       "    <tr>\n",
       "      <th>5</th>\n",
       "      <td>6</td>\n",
       "      <td>Arlene</td>\n",
       "      <td>65</td>\n",
       "      <td>104</td>\n",
       "      <td>Smartphone</td>\n",
       "      <td>Sacramento</td>\n",
       "    </tr>\n",
       "    <tr>\n",
       "      <th>6</th>\n",
       "      <td>7</td>\n",
       "      <td>Benny</td>\n",
       "      <td>35</td>\n",
       "      <td>0</td>\n",
       "      <td>NA</td>\n",
       "      <td>Los Angeles</td>\n",
       "    </tr>\n",
       "    <tr>\n",
       "      <th>7</th>\n",
       "      <td>8</td>\n",
       "      <td>Daniel</td>\n",
       "      <td>18</td>\n",
       "      <td>0</td>\n",
       "      <td>NA</td>\n",
       "      <td>Santa Cruz</td>\n",
       "    </tr>\n",
       "    <tr>\n",
       "      <th>8</th>\n",
       "      <td>9</td>\n",
       "      <td>Jeremy</td>\n",
       "      <td>23</td>\n",
       "      <td>107</td>\n",
       "      <td>Laptop</td>\n",
       "      <td>Sacramento</td>\n",
       "    </tr>\n",
       "  </tbody>\n",
       "</table>\n",
       "</div>"
      ],
      "text/plain": [
       "   id     name  age  Product_ID Purchased_Product          City\n",
       "0   1     Jess   20         101             Watch    Santa Cruz\n",
       "1   2    Tanya   25           0                NA    Sacramento\n",
       "2   3     Pete   15         106               Oil     San Deigo\n",
       "3   4      Mel   10           0                NA  San Fransico\n",
       "4   5  Heather   30         103             Shoes  San Fransico\n",
       "5   6   Arlene   65         104        Smartphone    Sacramento\n",
       "6   7    Benny   35           0                NA   Los Angeles\n",
       "7   8   Daniel   18           0                NA    Santa Cruz\n",
       "8   9   Jeremy   23         107            Laptop    Sacramento"
      ]
     },
     "execution_count": 1,
     "metadata": {},
     "output_type": "execute_result"
    }
   ],
   "source": [
    "# Import Pandas\n",
    "\n",
    "import pandas as pd\n",
    "\n",
    "# Create Customer Data Set\n",
    "\n",
    "customer=pd.DataFrame({\n",
    "    'id':[1,2,3,4,5,6,7,8,9],\n",
    "    'name':['Jess','Tanya','Pete','Mel','Heather','Arlene','Benny','Daniel','Jeremy'],\n",
    "    'age':[20,25,15,10,30,65,35,18,23],\n",
    "    'Product_ID':[101,0,106,0,103,104,0,0,107],\n",
    "    'Purchased_Product':['Watch','NA','Oil','NA','Shoes','Smartphone','NA','NA','Laptop'],\n",
    "    'City':['Santa Cruz','Sacramento','San Deigo','San Fransico','San Fransico','Sacramento','Los Angeles','Santa Cruz','Sacramento']\n",
    "})\n",
    "\n",
    "# View the Data\n",
    "\n",
    "customer"
   ]
  },
  {
   "cell_type": "markdown",
   "metadata": {},
   "source": [
    "    Our Sales team accidently added some customers to our database incorrectly.\n",
    "    Instead of leaving the Purchased Product collumn blank they entered NA\n",
    "    \n",
    "    We are going to use loc to find the Customers that were entered in incorrectly\n"
   ]
  },
  {
   "cell_type": "markdown",
   "metadata": {},
   "source": [
    "# Using == to Find Rows That Match a Value\n",
    "\n",
    "    How to do it\n",
    "    \n",
    "    The syntax for the loc command is the following\n",
    "    \n",
    "    loc[Data Set[\"Name of the collumn that has the value you want to look for\"] == \"Value you are searching for\"]\n",
    "    \n",
    "    let do an example"
   ]
  },
  {
   "cell_type": "code",
   "execution_count": 2,
   "metadata": {},
   "outputs": [
    {
     "data": {
      "text/html": [
       "<div>\n",
       "<style scoped>\n",
       "    .dataframe tbody tr th:only-of-type {\n",
       "        vertical-align: middle;\n",
       "    }\n",
       "\n",
       "    .dataframe tbody tr th {\n",
       "        vertical-align: top;\n",
       "    }\n",
       "\n",
       "    .dataframe thead th {\n",
       "        text-align: right;\n",
       "    }\n",
       "</style>\n",
       "<table border=\"1\" class=\"dataframe\">\n",
       "  <thead>\n",
       "    <tr style=\"text-align: right;\">\n",
       "      <th></th>\n",
       "      <th>id</th>\n",
       "      <th>name</th>\n",
       "      <th>age</th>\n",
       "      <th>Product_ID</th>\n",
       "      <th>Purchased_Product</th>\n",
       "      <th>City</th>\n",
       "    </tr>\n",
       "  </thead>\n",
       "  <tbody>\n",
       "    <tr>\n",
       "      <th>1</th>\n",
       "      <td>2</td>\n",
       "      <td>Tanya</td>\n",
       "      <td>25</td>\n",
       "      <td>0</td>\n",
       "      <td>NA</td>\n",
       "      <td>Sacramento</td>\n",
       "    </tr>\n",
       "    <tr>\n",
       "      <th>3</th>\n",
       "      <td>4</td>\n",
       "      <td>Mel</td>\n",
       "      <td>10</td>\n",
       "      <td>0</td>\n",
       "      <td>NA</td>\n",
       "      <td>San Fransico</td>\n",
       "    </tr>\n",
       "    <tr>\n",
       "      <th>6</th>\n",
       "      <td>7</td>\n",
       "      <td>Benny</td>\n",
       "      <td>35</td>\n",
       "      <td>0</td>\n",
       "      <td>NA</td>\n",
       "      <td>Los Angeles</td>\n",
       "    </tr>\n",
       "    <tr>\n",
       "      <th>7</th>\n",
       "      <td>8</td>\n",
       "      <td>Daniel</td>\n",
       "      <td>18</td>\n",
       "      <td>0</td>\n",
       "      <td>NA</td>\n",
       "      <td>Santa Cruz</td>\n",
       "    </tr>\n",
       "  </tbody>\n",
       "</table>\n",
       "</div>"
      ],
      "text/plain": [
       "   id    name  age  Product_ID Purchased_Product          City\n",
       "1   2   Tanya   25           0                NA    Sacramento\n",
       "3   4     Mel   10           0                NA  San Fransico\n",
       "6   7   Benny   35           0                NA   Los Angeles\n",
       "7   8  Daniel   18           0                NA    Santa Cruz"
      ]
     },
     "execution_count": 2,
     "metadata": {},
     "output_type": "execute_result"
    }
   ],
   "source": [
    "# Creating a variable named na that will find all the data that has NA in the Purchased Product collumn\n",
    "\n",
    "na = customer.loc[customer[\"Purchased_Product\"]== \"NA\"]\n",
    "\n",
    "# Display the data\n",
    "\n",
    "na"
   ]
  },
  {
   "cell_type": "markdown",
   "metadata": {},
   "source": [
    "# What Do We See?\n",
    "\n",
    "    Our customer data set is now only showing the entries that need to be removed. All rows are hidden from view"
   ]
  },
  {
   "cell_type": "markdown",
   "metadata": {},
   "source": [
    "# Using != to Find Rows That Do Not Match a Value\n",
    "\n",
    "    How to do it\n",
    "    \n",
    "    The syntax to find all the data that is not equal to a value looks like this\n",
    "    \n",
    "    loc[Data Set[\"Name of the collumn that has the value you want to look for\"] != \"Value you want to Exclude\"]\n",
    "    \n",
    "    Lets do an example"
   ]
  },
  {
   "cell_type": "code",
   "execution_count": 3,
   "metadata": {},
   "outputs": [
    {
     "data": {
      "text/html": [
       "<div>\n",
       "<style scoped>\n",
       "    .dataframe tbody tr th:only-of-type {\n",
       "        vertical-align: middle;\n",
       "    }\n",
       "\n",
       "    .dataframe tbody tr th {\n",
       "        vertical-align: top;\n",
       "    }\n",
       "\n",
       "    .dataframe thead th {\n",
       "        text-align: right;\n",
       "    }\n",
       "</style>\n",
       "<table border=\"1\" class=\"dataframe\">\n",
       "  <thead>\n",
       "    <tr style=\"text-align: right;\">\n",
       "      <th></th>\n",
       "      <th>id</th>\n",
       "      <th>name</th>\n",
       "      <th>age</th>\n",
       "      <th>Product_ID</th>\n",
       "      <th>Purchased_Product</th>\n",
       "      <th>City</th>\n",
       "    </tr>\n",
       "  </thead>\n",
       "  <tbody>\n",
       "    <tr>\n",
       "      <th>0</th>\n",
       "      <td>1</td>\n",
       "      <td>Jess</td>\n",
       "      <td>20</td>\n",
       "      <td>101</td>\n",
       "      <td>Watch</td>\n",
       "      <td>Santa Cruz</td>\n",
       "    </tr>\n",
       "    <tr>\n",
       "      <th>2</th>\n",
       "      <td>3</td>\n",
       "      <td>Pete</td>\n",
       "      <td>15</td>\n",
       "      <td>106</td>\n",
       "      <td>Oil</td>\n",
       "      <td>San Deigo</td>\n",
       "    </tr>\n",
       "    <tr>\n",
       "      <th>4</th>\n",
       "      <td>5</td>\n",
       "      <td>Heather</td>\n",
       "      <td>30</td>\n",
       "      <td>103</td>\n",
       "      <td>Shoes</td>\n",
       "      <td>San Fransico</td>\n",
       "    </tr>\n",
       "    <tr>\n",
       "      <th>5</th>\n",
       "      <td>6</td>\n",
       "      <td>Arlene</td>\n",
       "      <td>65</td>\n",
       "      <td>104</td>\n",
       "      <td>Smartphone</td>\n",
       "      <td>Sacramento</td>\n",
       "    </tr>\n",
       "    <tr>\n",
       "      <th>8</th>\n",
       "      <td>9</td>\n",
       "      <td>Jeremy</td>\n",
       "      <td>23</td>\n",
       "      <td>107</td>\n",
       "      <td>Laptop</td>\n",
       "      <td>Sacramento</td>\n",
       "    </tr>\n",
       "  </tbody>\n",
       "</table>\n",
       "</div>"
      ],
      "text/plain": [
       "   id     name  age  Product_ID Purchased_Product          City\n",
       "0   1     Jess   20         101             Watch    Santa Cruz\n",
       "2   3     Pete   15         106               Oil     San Deigo\n",
       "4   5  Heather   30         103             Shoes  San Fransico\n",
       "5   6   Arlene   65         104        Smartphone    Sacramento\n",
       "8   9   Jeremy   23         107            Laptop    Sacramento"
      ]
     },
     "execution_count": 3,
     "metadata": {},
     "output_type": "execute_result"
    }
   ],
   "source": [
    "# Creating a variable named notna that will find all the data that does not have NA in the Purchased Product collumn\n",
    "\n",
    "notna = customer.loc[customer[\"Purchased_Product\"]!= \"NA\"]\n",
    "\n",
    "# Display the data\n",
    "\n",
    "notna"
   ]
  },
  {
   "cell_type": "markdown",
   "metadata": {},
   "source": [
    "#  What Do We See?\n",
    "\n",
    "    All of the customers that had NA under Purchased_Product are now gone. "
   ]
  },
  {
   "cell_type": "markdown",
   "metadata": {},
   "source": [
    "# For You to Try 1\n",
    "\n",
    "    Using the examples we have learned above filter our customer data set to show the customer older than 20 (>) \n",
    "    The answer will be below."
   ]
  },
  {
   "cell_type": "code",
   "execution_count": 4,
   "metadata": {},
   "outputs": [],
   "source": [
    "# Place for you to practice\n",
    "\n"
   ]
  },
  {
   "cell_type": "markdown",
   "metadata": {},
   "source": [
    "# How Do We Filter on Multiple Values?\n",
    "\n",
    "    We now know how to use loc to return all the data that meets a criteria based on a value. What if we\n",
    "    want to return data if it equals one of a list of values?\n",
    "    \n",
    "    Columns in pandas have an option called isin. It compares all of the values in that collumn against a list of values. This\n",
    "    is useful when you need to find data where a value of a collumn is one of a collection. For example\n",
    "    How would you get the data of customers from Santa Cruz and Sacramento?"
   ]
  },
  {
   "cell_type": "markdown",
   "metadata": {},
   "source": [
    "# Using isin\n",
    "\n",
    "    How to do it\n",
    "    \n",
    "    Create a variable which contains all the values you want to look for it should look like this\n",
    "        \n",
    "        variable name = [\"value1\", \"value2\", \"value3\"]\n",
    "        \n",
    "    Then use the is in option on the column you want to filter on\n",
    "    \n",
    "    loc[Data Set[\"Name of the collumn that has the value you want to look for\"].isin(variable containing your list)]\n",
    "    \n",
    "    lets use it in an example"
   ]
  },
  {
   "cell_type": "code",
   "execution_count": 5,
   "metadata": {},
   "outputs": [
    {
     "data": {
      "text/html": [
       "<div>\n",
       "<style scoped>\n",
       "    .dataframe tbody tr th:only-of-type {\n",
       "        vertical-align: middle;\n",
       "    }\n",
       "\n",
       "    .dataframe tbody tr th {\n",
       "        vertical-align: top;\n",
       "    }\n",
       "\n",
       "    .dataframe thead th {\n",
       "        text-align: right;\n",
       "    }\n",
       "</style>\n",
       "<table border=\"1\" class=\"dataframe\">\n",
       "  <thead>\n",
       "    <tr style=\"text-align: right;\">\n",
       "      <th></th>\n",
       "      <th>id</th>\n",
       "      <th>name</th>\n",
       "      <th>age</th>\n",
       "      <th>Product_ID</th>\n",
       "      <th>Purchased_Product</th>\n",
       "      <th>City</th>\n",
       "    </tr>\n",
       "  </thead>\n",
       "  <tbody>\n",
       "    <tr>\n",
       "      <th>0</th>\n",
       "      <td>1</td>\n",
       "      <td>Jess</td>\n",
       "      <td>20</td>\n",
       "      <td>101</td>\n",
       "      <td>Watch</td>\n",
       "      <td>Santa Cruz</td>\n",
       "    </tr>\n",
       "    <tr>\n",
       "      <th>1</th>\n",
       "      <td>2</td>\n",
       "      <td>Tanya</td>\n",
       "      <td>25</td>\n",
       "      <td>0</td>\n",
       "      <td>NA</td>\n",
       "      <td>Sacramento</td>\n",
       "    </tr>\n",
       "    <tr>\n",
       "      <th>5</th>\n",
       "      <td>6</td>\n",
       "      <td>Arlene</td>\n",
       "      <td>65</td>\n",
       "      <td>104</td>\n",
       "      <td>Smartphone</td>\n",
       "      <td>Sacramento</td>\n",
       "    </tr>\n",
       "    <tr>\n",
       "      <th>7</th>\n",
       "      <td>8</td>\n",
       "      <td>Daniel</td>\n",
       "      <td>18</td>\n",
       "      <td>0</td>\n",
       "      <td>NA</td>\n",
       "      <td>Santa Cruz</td>\n",
       "    </tr>\n",
       "    <tr>\n",
       "      <th>8</th>\n",
       "      <td>9</td>\n",
       "      <td>Jeremy</td>\n",
       "      <td>23</td>\n",
       "      <td>107</td>\n",
       "      <td>Laptop</td>\n",
       "      <td>Sacramento</td>\n",
       "    </tr>\n",
       "  </tbody>\n",
       "</table>\n",
       "</div>"
      ],
      "text/plain": [
       "   id    name  age  Product_ID Purchased_Product        City\n",
       "0   1    Jess   20         101             Watch  Santa Cruz\n",
       "1   2   Tanya   25           0                NA  Sacramento\n",
       "5   6  Arlene   65         104        Smartphone  Sacramento\n",
       "7   8  Daniel   18           0                NA  Santa Cruz\n",
       "8   9  Jeremy   23         107            Laptop  Sacramento"
      ]
     },
     "execution_count": 5,
     "metadata": {},
     "output_type": "execute_result"
    }
   ],
   "source": [
    "# create a variable called cities which contains two cities Santa Cruz and Sacramento\n",
    "\n",
    "cities = [\"Sacramento\", \"Santa Cruz\"]\n",
    "\n",
    "# Filter our customer data set looking only for customers from these cities. We will store this in a variable named\n",
    "# fromcities\n",
    "\n",
    "fromcities = customer.loc[customer[\"City\"].isin(cities)]\n",
    "\n",
    "# Show the data\n",
    "\n",
    "fromcities"
   ]
  },
  {
   "cell_type": "markdown",
   "metadata": {},
   "source": [
    "# What Do We See?\n",
    "\n",
    "    Our customer data set has been filtered to just show people from Sacramento or Santa Cruz."
   ]
  },
  {
   "cell_type": "markdown",
   "metadata": {},
   "source": [
    "# How Do We Filter Using Multiple Criteria?\n",
    "\n",
    "    We now know how to filter based on one column for either one value or multiple values. What if we wanted to search\n",
    "    based on if one column has a value as well as another collumn has a value. For example show the customers who bought\n",
    "    a watch from Santa Cruz?\n",
    "    \n",
    "   \n",
    "    \n",
    "    "
   ]
  },
  {
   "cell_type": "markdown",
   "metadata": {},
   "source": [
    "# For You to Try 2\n",
    "\n",
    "    Use the examples above filter our customer data set to show people who bought a watch or a smartphone.\n",
    "    The answer will be below"
   ]
  },
  {
   "cell_type": "code",
   "execution_count": 6,
   "metadata": {},
   "outputs": [],
   "source": [
    "# Place for you to practice\n",
    "\n"
   ]
  },
  {
   "cell_type": "markdown",
   "metadata": {},
   "source": [
    "# Using &\n",
    "\n",
    "    You can add conditions by using the & operator which means and. This allows you combine conditions. The syntax looks\n",
    "    like this.\n",
    "    \n",
    "    How to do it\n",
    "    \n",
    "    loc[(Data Set[\"Name of the collumn that has the value you want to look for\"] condition 1) & (Data Set[\"Name of the collumn     that has the value you also want to look for\"] condition 2)]\n",
    "    \n",
    "    \n",
    "    lets use it in an example so it will make more sense"
   ]
  },
  {
   "cell_type": "code",
   "execution_count": 7,
   "metadata": {},
   "outputs": [
    {
     "data": {
      "text/html": [
       "<div>\n",
       "<style scoped>\n",
       "    .dataframe tbody tr th:only-of-type {\n",
       "        vertical-align: middle;\n",
       "    }\n",
       "\n",
       "    .dataframe tbody tr th {\n",
       "        vertical-align: top;\n",
       "    }\n",
       "\n",
       "    .dataframe thead th {\n",
       "        text-align: right;\n",
       "    }\n",
       "</style>\n",
       "<table border=\"1\" class=\"dataframe\">\n",
       "  <thead>\n",
       "    <tr style=\"text-align: right;\">\n",
       "      <th></th>\n",
       "      <th>id</th>\n",
       "      <th>name</th>\n",
       "      <th>age</th>\n",
       "      <th>Product_ID</th>\n",
       "      <th>Purchased_Product</th>\n",
       "      <th>City</th>\n",
       "    </tr>\n",
       "  </thead>\n",
       "  <tbody>\n",
       "    <tr>\n",
       "      <th>0</th>\n",
       "      <td>1</td>\n",
       "      <td>Jess</td>\n",
       "      <td>20</td>\n",
       "      <td>101</td>\n",
       "      <td>Watch</td>\n",
       "      <td>Santa Cruz</td>\n",
       "    </tr>\n",
       "  </tbody>\n",
       "</table>\n",
       "</div>"
      ],
      "text/plain": [
       "   id  name  age  Product_ID Purchased_Product        City\n",
       "0   1  Jess   20         101             Watch  Santa Cruz"
      ]
     },
     "execution_count": 7,
     "metadata": {},
     "output_type": "execute_result"
    }
   ],
   "source": [
    "# Creating a variable named laptopbuyersfromsc that will find all the data where a customer bought a watch\n",
    "# and has the city of Santa Cruz\n",
    "laptopbuyersfromsc = customer.loc[(customer[\"Purchased_Product\"]== \"Watch\") & (customer[\"City\"]== \"Santa Cruz\")]\n",
    "\n",
    "# Display the data\n",
    "\n",
    "laptopbuyersfromsc"
   ]
  },
  {
   "cell_type": "markdown",
   "metadata": {},
   "source": [
    "# What Do We See?\n",
    "\n",
    "    We can see our query worked and we just got one result. Each condition is wrapped in () and then the & says run \n",
    "    the first condition (give me all the customers who bought a watch) and then take that data and filter it again\n",
    "    to just return the customers whose city is Santa Cruz"
   ]
  },
  {
   "cell_type": "markdown",
   "metadata": {},
   "source": [
    "# For You to Try 3\n",
    "\n",
    "    Use the examples above filter our customer data set to show people who bought a Smartphone and are also from Sacramento.\n",
    "    The answer will be below"
   ]
  },
  {
   "cell_type": "code",
   "execution_count": 8,
   "metadata": {},
   "outputs": [],
   "source": [
    "# Place for you to practice"
   ]
  },
  {
   "cell_type": "markdown",
   "metadata": {},
   "source": [
    "# Where Can I Practice?\n",
    "\n",
    "An exerise using loc can be found 04-Pandas\\Day_2\\Activities\\01-Ins_LocAndIloc.\n",
    "\n",
    "I could not find a class example using isin"
   ]
  },
  {
   "cell_type": "markdown",
   "metadata": {},
   "source": [
    "# For You to Try 1 Answer"
   ]
  },
  {
   "cell_type": "code",
   "execution_count": 9,
   "metadata": {},
   "outputs": [
    {
     "data": {
      "text/html": [
       "<div>\n",
       "<style scoped>\n",
       "    .dataframe tbody tr th:only-of-type {\n",
       "        vertical-align: middle;\n",
       "    }\n",
       "\n",
       "    .dataframe tbody tr th {\n",
       "        vertical-align: top;\n",
       "    }\n",
       "\n",
       "    .dataframe thead th {\n",
       "        text-align: right;\n",
       "    }\n",
       "</style>\n",
       "<table border=\"1\" class=\"dataframe\">\n",
       "  <thead>\n",
       "    <tr style=\"text-align: right;\">\n",
       "      <th></th>\n",
       "      <th>id</th>\n",
       "      <th>name</th>\n",
       "      <th>age</th>\n",
       "      <th>Product_ID</th>\n",
       "      <th>Purchased_Product</th>\n",
       "      <th>City</th>\n",
       "    </tr>\n",
       "  </thead>\n",
       "  <tbody>\n",
       "    <tr>\n",
       "      <th>1</th>\n",
       "      <td>2</td>\n",
       "      <td>Tanya</td>\n",
       "      <td>25</td>\n",
       "      <td>0</td>\n",
       "      <td>NA</td>\n",
       "      <td>Sacramento</td>\n",
       "    </tr>\n",
       "    <tr>\n",
       "      <th>4</th>\n",
       "      <td>5</td>\n",
       "      <td>Heather</td>\n",
       "      <td>30</td>\n",
       "      <td>103</td>\n",
       "      <td>Shoes</td>\n",
       "      <td>San Fransico</td>\n",
       "    </tr>\n",
       "    <tr>\n",
       "      <th>5</th>\n",
       "      <td>6</td>\n",
       "      <td>Arlene</td>\n",
       "      <td>65</td>\n",
       "      <td>104</td>\n",
       "      <td>Smartphone</td>\n",
       "      <td>Sacramento</td>\n",
       "    </tr>\n",
       "    <tr>\n",
       "      <th>6</th>\n",
       "      <td>7</td>\n",
       "      <td>Benny</td>\n",
       "      <td>35</td>\n",
       "      <td>0</td>\n",
       "      <td>NA</td>\n",
       "      <td>Los Angeles</td>\n",
       "    </tr>\n",
       "    <tr>\n",
       "      <th>8</th>\n",
       "      <td>9</td>\n",
       "      <td>Jeremy</td>\n",
       "      <td>23</td>\n",
       "      <td>107</td>\n",
       "      <td>Laptop</td>\n",
       "      <td>Sacramento</td>\n",
       "    </tr>\n",
       "  </tbody>\n",
       "</table>\n",
       "</div>"
      ],
      "text/plain": [
       "   id     name  age  Product_ID Purchased_Product          City\n",
       "1   2    Tanya   25           0                NA    Sacramento\n",
       "4   5  Heather   30         103             Shoes  San Fransico\n",
       "5   6   Arlene   65         104        Smartphone    Sacramento\n",
       "6   7    Benny   35           0                NA   Los Angeles\n",
       "8   9   Jeremy   23         107            Laptop    Sacramento"
      ]
     },
     "execution_count": 9,
     "metadata": {},
     "output_type": "execute_result"
    }
   ],
   "source": [
    "# Creating a variable named over20 that will find all the data for customers whose age is greater than twenty\n",
    "\n",
    "over20 = customer.loc[customer[\"age\"]> 20]\n",
    "\n",
    "# Display the data\n",
    "\n",
    "over20"
   ]
  },
  {
   "cell_type": "markdown",
   "metadata": {},
   "source": [
    "# For You to Try 2 Answer"
   ]
  },
  {
   "cell_type": "code",
   "execution_count": 10,
   "metadata": {},
   "outputs": [
    {
     "data": {
      "text/html": [
       "<div>\n",
       "<style scoped>\n",
       "    .dataframe tbody tr th:only-of-type {\n",
       "        vertical-align: middle;\n",
       "    }\n",
       "\n",
       "    .dataframe tbody tr th {\n",
       "        vertical-align: top;\n",
       "    }\n",
       "\n",
       "    .dataframe thead th {\n",
       "        text-align: right;\n",
       "    }\n",
       "</style>\n",
       "<table border=\"1\" class=\"dataframe\">\n",
       "  <thead>\n",
       "    <tr style=\"text-align: right;\">\n",
       "      <th></th>\n",
       "      <th>id</th>\n",
       "      <th>name</th>\n",
       "      <th>age</th>\n",
       "      <th>Product_ID</th>\n",
       "      <th>Purchased_Product</th>\n",
       "      <th>City</th>\n",
       "    </tr>\n",
       "  </thead>\n",
       "  <tbody>\n",
       "    <tr>\n",
       "      <th>0</th>\n",
       "      <td>1</td>\n",
       "      <td>Jess</td>\n",
       "      <td>20</td>\n",
       "      <td>101</td>\n",
       "      <td>Watch</td>\n",
       "      <td>Santa Cruz</td>\n",
       "    </tr>\n",
       "    <tr>\n",
       "      <th>5</th>\n",
       "      <td>6</td>\n",
       "      <td>Arlene</td>\n",
       "      <td>65</td>\n",
       "      <td>104</td>\n",
       "      <td>Smartphone</td>\n",
       "      <td>Sacramento</td>\n",
       "    </tr>\n",
       "  </tbody>\n",
       "</table>\n",
       "</div>"
      ],
      "text/plain": [
       "   id    name  age  Product_ID Purchased_Product        City\n",
       "0   1    Jess   20         101             Watch  Santa Cruz\n",
       "5   6  Arlene   65         104        Smartphone  Sacramento"
      ]
     },
     "execution_count": 10,
     "metadata": {},
     "output_type": "execute_result"
    }
   ],
   "source": [
    "# create a variable called products which contains two products Smartphone and Watch\n",
    "\n",
    "products = [\"Smartphone\", \"Watch\"]\n",
    "\n",
    "# Filter our customer data set looking only for customers who bought these products. We will store this in a variable named\n",
    "# boughtproducts\n",
    "\n",
    "boughtproducts = customer.loc[customer[\"Purchased_Product\"].isin(products)]\n",
    "\n",
    "# Show the data\n",
    "\n",
    "boughtproducts"
   ]
  },
  {
   "cell_type": "markdown",
   "metadata": {},
   "source": [
    "# For You to Try 3 Answer"
   ]
  },
  {
   "cell_type": "code",
   "execution_count": 11,
   "metadata": {},
   "outputs": [
    {
     "data": {
      "text/html": [
       "<div>\n",
       "<style scoped>\n",
       "    .dataframe tbody tr th:only-of-type {\n",
       "        vertical-align: middle;\n",
       "    }\n",
       "\n",
       "    .dataframe tbody tr th {\n",
       "        vertical-align: top;\n",
       "    }\n",
       "\n",
       "    .dataframe thead th {\n",
       "        text-align: right;\n",
       "    }\n",
       "</style>\n",
       "<table border=\"1\" class=\"dataframe\">\n",
       "  <thead>\n",
       "    <tr style=\"text-align: right;\">\n",
       "      <th></th>\n",
       "      <th>id</th>\n",
       "      <th>name</th>\n",
       "      <th>age</th>\n",
       "      <th>Product_ID</th>\n",
       "      <th>Purchased_Product</th>\n",
       "      <th>City</th>\n",
       "    </tr>\n",
       "  </thead>\n",
       "  <tbody>\n",
       "    <tr>\n",
       "      <th>5</th>\n",
       "      <td>6</td>\n",
       "      <td>Arlene</td>\n",
       "      <td>65</td>\n",
       "      <td>104</td>\n",
       "      <td>Smartphone</td>\n",
       "      <td>Sacramento</td>\n",
       "    </tr>\n",
       "  </tbody>\n",
       "</table>\n",
       "</div>"
      ],
      "text/plain": [
       "   id    name  age  Product_ID Purchased_Product        City\n",
       "5   6  Arlene   65         104        Smartphone  Sacramento"
      ]
     },
     "execution_count": 11,
     "metadata": {},
     "output_type": "execute_result"
    }
   ],
   "source": [
    "# create a variable called scphonecustomers which contains data from our customer data set where the Purchased Product\n",
    "# is Smartphone and the City is Sacramento\n",
    "\n",
    "scphonecustomers = customer.loc[(customer[\"Purchased_Product\"]== \"Smartphone\") & (customer[\"City\"]== \"Sacramento\")]\n",
    "\n",
    "# Show the data\n",
    "\n",
    "scphonecustomers"
   ]
  }
 ],
 "metadata": {
  "kernelspec": {
   "display_name": "Python 3",
   "language": "python",
   "name": "python3"
  },
  "language_info": {
   "codemirror_mode": {
    "name": "ipython",
    "version": 3
   },
   "file_extension": ".py",
   "mimetype": "text/x-python",
   "name": "python",
   "nbconvert_exporter": "python",
   "pygments_lexer": "ipython3",
   "version": "3.7.6"
  }
 },
 "nbformat": 4,
 "nbformat_minor": 4
}
